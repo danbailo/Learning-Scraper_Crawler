{
 "cells": [
  {
   "cell_type": "markdown",
   "metadata": {},
   "source": [
    "https://www.kaggle.com/nitindatta/fifa-in-depth-analysis-with-linear-regression\n",
    "\n",
    "https://github.com/amanthedorkknight/fifa18-all-player-statistics/blob/master/2019/crawler.py"
   ]
  },
  {
   "cell_type": "code",
   "execution_count": 1,
   "metadata": {},
   "outputs": [],
   "source": [
    "import pandas as pd\n",
    "import requests\n",
    "from bs4 import BeautifulSoup"
   ]
  },
  {
   "cell_type": "code",
   "execution_count": 2,
   "metadata": {},
   "outputs": [],
   "source": [
    "request = requests.get('https://sofifa.com')"
   ]
  },
  {
   "cell_type": "code",
   "execution_count": 3,
   "metadata": {},
   "outputs": [],
   "source": [
    "soup = BeautifulSoup(request.text, 'html.parser')"
   ]
  },
  {
   "cell_type": "code",
   "execution_count": null,
   "metadata": {},
   "outputs": [],
   "source": [
    "soup"
   ]
  },
  {
   "cell_type": "code",
   "execution_count": null,
   "metadata": {},
   "outputs": [],
   "source": []
  },
  {
   "cell_type": "code",
   "execution_count": 4,
   "metadata": {},
   "outputs": [],
   "source": [
    "#tr = soup.findAll('tr', class_='persist-header')"
   ]
  },
  {
   "cell_type": "code",
   "execution_count": 30,
   "metadata": {},
   "outputs": [],
   "source": [
    "table_head = soup.find('thead')\n",
    "head_rows = table_head.findAll('tr')\n",
    "all_th = []\n",
    "for row in head_rows:\n",
    "    all_th.append(row.findAll('th'))"
   ]
  },
  {
   "cell_type": "code",
   "execution_count": 31,
   "metadata": {},
   "outputs": [],
   "source": [
    "ticks = []"
   ]
  },
  {
   "cell_type": "code",
   "execution_count": 34,
   "metadata": {},
   "outputs": [],
   "source": [
    "for th in all_th:\n",
    "    for data in th:\n",
    "        if data.text.strip() == '': continue\n",
    "        else: ticks.append(data.text.strip())"
   ]
  },
  {
   "cell_type": "code",
   "execution_count": 35,
   "metadata": {},
   "outputs": [
    {
     "data": {
      "text/plain": [
       "['Basic',\n",
       " 'Special',\n",
       " 'Name',\n",
       " 'Age',\n",
       " 'OVA',\n",
       " 'POT',\n",
       " 'Team& Contract',\n",
       " 'Value',\n",
       " 'Wage',\n",
       " 'Total Stats',\n",
       " 'Hits']"
      ]
     },
     "execution_count": 35,
     "metadata": {},
     "output_type": "execute_result"
    }
   ],
   "source": [
    "ticks"
   ]
  },
  {
   "cell_type": "markdown",
   "metadata": {},
   "source": [
    "## Documentação Beautiful Soup\n",
    "https://www.crummy.com/software/BeautifulSoup/bs4/doc/\n",
    "\n",
    "---\n",
    "\n",
    ".find() é utilizado para encontrar as TAGS <> html\n",
    "\n",
    "O '.' também acessa diretamente a tag dejesada, logo, é mesma coisa que utilizar o .find()\n",
    "\n",
    "---\n",
    "\n",
    "\n",
    "Atributos são os elementos que dão alguma característica pra tag, logo, o mesmo se encontra dentro de uma.\n",
    "\n",
    "**exemplo** - id, class, src\n",
    "\n",
    "Para acessarmos os atributos, podemos utilizar o acesso indexado ['src'], ou a funcão .get('src'), visto que esses dados são construidos em cima de um dicionário\n",
    "\n",
    "---\n",
    "\n",
    "A **tag** img por exemplo, possui o atributo **src**.\n",
    "\n",
    "    table_body = soup.find('tbody')\n",
    "    tr = table_body.findAll('tr')\n",
    "    td = tr[0].findAll('td')\n",
    "    td[0].img.attrs\n",
    "\n",
    "    {'alt': '',\n",
    "     'data-src': 'https://cdn.sofifa.org/players/4/19/176993.png',\n",
    "     'data-srcset': 'https://cdn.sofifa.org/players/4/19/176993@2x.png 2x, https://cdn.sofifa.org/players/4/19/176993@3x.png 3x',\n",
    "     'src': 'https://cdn.sofifa.org/players/4/notfound_0.png',\n",
    "     'data-root': 'https://cdn.sofifa.org/players/4/',\n",
    "     'data-type': 'player',\n",
    "     'width': '48',\n",
    "     'height': '48',\n",
    "     'id': '176993',\n",
    "     'class': ['player-check']}"
   ]
  },
  {
   "cell_type": "code",
   "execution_count": 6,
   "metadata": {},
   "outputs": [],
   "source": [
    "table_body = soup.find('tbody')"
   ]
  },
  {
   "cell_type": "code",
   "execution_count": 9,
   "metadata": {},
   "outputs": [
    {
     "data": {
      "text/plain": [
       "{'alt': '',\n",
       " 'data-src': 'https://cdn.sofifa.org/players/4/19/176993.png',\n",
       " 'data-srcset': 'https://cdn.sofifa.org/players/4/19/176993@2x.png 2x, https://cdn.sofifa.org/players/4/19/176993@3x.png 3x',\n",
       " 'src': 'https://cdn.sofifa.org/players/4/notfound_0.png',\n",
       " 'data-root': 'https://cdn.sofifa.org/players/4/',\n",
       " 'data-type': 'player',\n",
       " 'width': '48',\n",
       " 'height': '48',\n",
       " 'id': '176993',\n",
       " 'class': ['player-check']}"
      ]
     },
     "execution_count": 9,
     "metadata": {},
     "output_type": "execute_result"
    }
   ],
   "source": [
    "table_body\n",
    "tr = table_body.findAll('tr')\n",
    "td = tr[0].findAll('td')\n",
    "td[0].find('img').attrs"
   ]
  },
  {
   "cell_type": "code",
   "execution_count": 7,
   "metadata": {},
   "outputs": [
    {
     "name": "stdout",
     "output_type": "stream",
     "text": [
      "https://cdn.sofifa.org/players/4/19/176993.png\n",
      "https://cdn.sofifa.org/players/4/19/192598.png\n",
      "https://cdn.sofifa.org/players/4/19/237329.png\n",
      "https://cdn.sofifa.org/players/4/19/203376.png\n",
      "https://cdn.sofifa.org/players/4/19/242365.png\n",
      "https://cdn.sofifa.org/players/4/19/235173.png\n",
      "https://cdn.sofifa.org/players/4/19/184941.png\n",
      "https://cdn.sofifa.org/players/4/19/238049.png\n",
      "https://cdn.sofifa.org/players/4/19/242444.png\n",
      "https://cdn.sofifa.org/players/4/19/236593.png\n",
      "https://cdn.sofifa.org/players/4/19/233049.png\n",
      "https://cdn.sofifa.org/players/4/19/228702.png\n",
      "https://cdn.sofifa.org/players/4/19/245388.png\n",
      "https://cdn.sofifa.org/players/4/19/235790.png\n",
      "https://cdn.sofifa.org/players/4/19/236007.png\n",
      "https://cdn.sofifa.org/players/4/19/201389.png\n",
      "https://cdn.sofifa.org/players/4/19/213051.png\n",
      "https://cdn.sofifa.org/players/4/19/227796.png\n",
      "https://cdn.sofifa.org/players/4/19/241096.png\n",
      "https://cdn.sofifa.org/players/4/19/233064.png\n",
      "https://cdn.sofifa.org/players/4/19/226110.png\n",
      "https://cdn.sofifa.org/players/4/19/238232.png\n",
      "https://cdn.sofifa.org/players/4/19/236632.png\n",
      "https://cdn.sofifa.org/players/4/19/232104.png\n",
      "https://cdn.sofifa.org/players/4/19/190871.png\n",
      "https://cdn.sofifa.org/players/4/19/225953.png\n",
      "https://cdn.sofifa.org/players/4/19/241907.png\n",
      "https://cdn.sofifa.org/players/4/19/237692.png\n",
      "https://cdn.sofifa.org/players/4/19/176481.png\n",
      "https://cdn.sofifa.org/players/4/19/208330.png\n",
      "https://cdn.sofifa.org/players/4/19/231747.png\n",
      "https://cdn.sofifa.org/players/4/19/224232.png\n",
      "https://cdn.sofifa.org/players/4/19/234906.png\n",
      "https://cdn.sofifa.org/players/4/19/240740.png\n",
      "https://cdn.sofifa.org/players/4/19/243780.png\n",
      "https://cdn.sofifa.org/players/4/19/235866.png\n",
      "https://cdn.sofifa.org/players/4/19/231242.png\n",
      "https://cdn.sofifa.org/players/4/19/236610.png\n",
      "https://cdn.sofifa.org/players/4/19/229880.png\n",
      "https://cdn.sofifa.org/players/4/19/228687.png\n",
      "https://cdn.sofifa.org/players/4/19/231281.png\n",
      "https://cdn.sofifa.org/players/4/19/189881.png\n",
      "https://cdn.sofifa.org/players/4/19/248604.png\n",
      "https://cdn.sofifa.org/players/4/19/223874.png\n",
      "https://cdn.sofifa.org/players/4/19/158023.png\n",
      "https://cdn.sofifa.org/players/4/19/204691.png\n",
      "https://cdn.sofifa.org/players/4/19/231410.png\n",
      "https://cdn.sofifa.org/players/4/19/246147.png\n",
      "https://cdn.sofifa.org/players/4/19/235243.png\n",
      "https://cdn.sofifa.org/players/4/19/231443.png\n",
      "https://cdn.sofifa.org/players/4/19/232432.png\n",
      "https://cdn.sofifa.org/players/4/19/240507.png\n",
      "https://cdn.sofifa.org/players/4/19/243715.png\n",
      "https://cdn.sofifa.org/players/4/19/238794.png\n",
      "https://cdn.sofifa.org/players/4/19/229558.png\n",
      "https://cdn.sofifa.org/players/4/19/235883.png\n",
      "https://cdn.sofifa.org/players/4/19/231478.png\n",
      "https://cdn.sofifa.org/players/4/19/238067.png\n",
      "https://cdn.sofifa.org/players/4/19/236477.png\n",
      "https://cdn.sofifa.org/players/4/19/244260.png\n"
     ]
    }
   ],
   "source": [
    "table_body = soup.find('tbody')\n",
    "for row in table_body.findAll('tr'):\n",
    "    td = row.findAll('td')\n",
    "    picture = td[0].find('img')['data-src']\n",
    "    print(picture)"
   ]
  },
  {
   "cell_type": "code",
   "execution_count": null,
   "metadata": {},
   "outputs": [],
   "source": []
  }
 ],
 "metadata": {
  "kernelspec": {
   "display_name": "Python 3",
   "language": "python",
   "name": "python3"
  },
  "language_info": {
   "codemirror_mode": {
    "name": "ipython",
    "version": 3
   },
   "file_extension": ".py",
   "mimetype": "text/x-python",
   "name": "python",
   "nbconvert_exporter": "python",
   "pygments_lexer": "ipython3",
   "version": "3.6.8"
  }
 },
 "nbformat": 4,
 "nbformat_minor": 4
}

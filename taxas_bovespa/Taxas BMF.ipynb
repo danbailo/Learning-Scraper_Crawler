{
 "cells": [
  {
   "cell_type": "markdown",
   "metadata": {},
   "source": [
    "https://curl.trillworks.com/"
   ]
  },
  {
   "cell_type": "code",
   "execution_count": 2,
   "metadata": {},
   "outputs": [],
   "source": [
    "import requests\n",
    "from bs4 import BeautifulSoup"
   ]
  },
  {
   "cell_type": "code",
   "execution_count": 95,
   "metadata": {},
   "outputs": [],
   "source": [
    "cookies = {\n",
    "    'ASPSESSIONIDCSCSTQDS': 'FJPPKCJCCLPBLHHEEPCKPHJL',\n",
    "    'rxVisitor': '1567434794791V6MI0JKUSQLU8FBP8JSQ993PDH20849S',\n",
    "    '_ga': 'GA1.4.1917327044.1567434796',\n",
    "    '_gid': 'GA1.4.1820181182.1567434796',\n",
    "    'TS01ccf8f5': '016e3b076fe8ae3713d848c02530ec23eda76a0cb786e5843de3b2c361a764ad6066b29aefe27b13aec0d16845c52990bc09344a5324dec968ab7034535153c30f3827d1c5',\n",
    "    'ASPSESSIONIDQQDTTQAR': 'CFGLCFJCCFHDPODDDJCGOCDO',\n",
    "    'TS01871345': '016e3b076fd3c661d804b074e15649329e6d37810a9f1ea98494068164bd455db8e278b100ba6e6b477ce6b4128beb38dc9fae9cf562b2b8cf4f10676e7a26d4b046c7f5ff92ac30d37846c9832df25b3be6c0655b',\n",
    "    'dtSa': '-',\n",
    "    '_dc_gtm_UA-43178799-13': '1',\n",
    "    'dtPC': '1$238641608_310h-vKHHGMLIDPLJGJIMOOEFOOLIANABGKLFO',\n",
    "    'rxvt': '1567440447881|1567438520340',\n",
    "    'dtLatC': '3',\n",
    "    'dtCookie': '1$C2118806ECB5F998A066C983F703DD1E|5286dfffe4e737f8|1',\n",
    "}\n",
    "\n",
    "headers = {\n",
    "    'Connection': 'keep-alive',\n",
    "    'Cache-Control': 'max-age=0',\n",
    "    'Upgrade-Insecure-Requests': '1',\n",
    "    'User-Agent': 'Mozilla/5.0 (Linux; Android 6.0; Nexus 5 Build/MRA58N) AppleWebKit/537.36 (KHTML, like Gecko) Chrome/76.0.3809.132 Mobile Safari/537.36',\n",
    "    'Origin': 'http://www2.bmf.com.br',\n",
    "    'Content-Type': 'application/x-www-form-urlencoded',\n",
    "    'Accept': 'text/html,application/xhtml+xml,application/xml;q=0.9,image/webp,image/apng,*/*;q=0.8,application/signed-exchange;v=b3',\n",
    "    'Referer': 'http://www2.bmf.com.br/pages/portal/bmfbovespa/lumis/lum-taxas-referenciais-bmf-ptBR.asp?Data=30/08/2019&Data1=20190830&slcTaxa=PRE',\n",
    "    'Accept-Encoding': 'gzip, deflate',\n",
    "    'Accept-Language': 'en,en-US;q=0.9,pt-BR;q=0.8,pt;q=0.7',\n",
    "}"
   ]
  },
  {
   "cell_type": "code",
   "execution_count": 3,
   "metadata": {},
   "outputs": [],
   "source": [
    "params = (\n",
    "    ('Data', '30/08/2019'),\n",
    "    ('Data1', '20190830'),\n",
    "    ('slcTaxa', 'PRE'),\n",
    ")\n",
    "\n",
    "data = {\n",
    "  'slcTaxa': 'PRE',\n",
    "  'Data1': '20190830',\n",
    "  'Data': '30/08/2019',\n",
    "  'convertexls1': '',\n",
    "  'nomexls': '',\n",
    "  'lQtdTabelas': '',\n",
    "  'IDIOMA': '1'\n",
    "}"
   ]
  },
  {
   "cell_type": "code",
   "execution_count": 4,
   "metadata": {},
   "outputs": [],
   "source": [
    "response = requests.post('http://www2.bmf.com.br/pages/portal/bmfbovespa/lumis/lum-taxas-referenciais-bmf-ptBR.asp', headers=headers, params=params, cookies=cookies, data=data, verify=False)"
   ]
  },
  {
   "cell_type": "code",
   "execution_count": 5,
   "metadata": {},
   "outputs": [],
   "source": [
    "soup = BeautifulSoup(response.text, 'html.parser')"
   ]
  },
  {
   "cell_type": "code",
   "execution_count": 6,
   "metadata": {},
   "outputs": [],
   "source": [
    "# soup"
   ]
  },
  {
   "cell_type": "code",
   "execution_count": 22,
   "metadata": {},
   "outputs": [],
   "source": [
    "all_td = soup.findAll('td')"
   ]
  },
  {
   "cell_type": "code",
   "execution_count": 79,
   "metadata": {},
   "outputs": [],
   "source": [
    "data = {}\n",
    "data['Dias Corridos'] = []\n",
    "data['DI x pré'] = {'252(2)(4)':[], '360(1)':[]}"
   ]
  },
  {
   "cell_type": "code",
   "execution_count": 80,
   "metadata": {},
   "outputs": [],
   "source": [
    "state = 0\n",
    "for td in all_td:\n",
    "    if not bool(td.attrs):\n",
    "        data['Dias Corridos'].append(td.text)\n",
    "    else :\n",
    "        if state == 0: \n",
    "            data['DI x pré']['252(2)(4)'].append(td.text)\n",
    "            state = 1\n",
    "            continue\n",
    "        if state == 1:\n",
    "            data['DI x pré']['360(1)'].append(td.text)\n",
    "            state = 0\n",
    "            continue"
   ]
  }
 ],
 "metadata": {
  "kernelspec": {
   "display_name": "Python 3",
   "language": "python",
   "name": "python3"
  },
  "language_info": {
   "codemirror_mode": {
    "name": "ipython",
    "version": 3
   },
   "file_extension": ".py",
   "mimetype": "text/x-python",
   "name": "python",
   "nbconvert_exporter": "python",
   "pygments_lexer": "ipython3",
   "version": "3.6.8"
  }
 },
 "nbformat": 4,
 "nbformat_minor": 4
}
